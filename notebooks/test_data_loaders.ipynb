{
 "cells": [
  {
   "cell_type": "code",
   "execution_count": 2,
   "metadata": {},
   "outputs": [
    {
     "name": "stderr",
     "output_type": "stream",
     "text": [
      "Exception ignored in: <bound method IPythonKernel._clean_thread_parent_frames of <ipykernel.ipkernel.IPythonKernel object at 0x1034c79b0>>\n",
      "Traceback (most recent call last):\n",
      "  File \"/Users/tototus/workspace/memory-map-env/lib/python3.12/site-packages/ipykernel/ipkernel.py\", line 775, in _clean_thread_parent_frames\n",
      "    def _clean_thread_parent_frames(\n",
      "\n",
      "KeyboardInterrupt: \n"
     ]
    },
    {
     "ename": "ImportError",
     "evalue": "attempted relative import beyond top-level package",
     "output_type": "error",
     "traceback": [
      "\u001b[31m---------------------------------------------------------------------------\u001b[39m",
      "\u001b[31mImportError\u001b[39m                               Traceback (most recent call last)",
      "\u001b[36mCell\u001b[39m\u001b[36m \u001b[39m\u001b[32mIn[2]\u001b[39m\u001b[32m, line 10\u001b[39m\n\u001b[32m      6\u001b[39m \u001b[38;5;66;03m# Add the parent directory to the Python path\u001b[39;00m\n\u001b[32m      7\u001b[39m \u001b[38;5;66;03m# sys.path.append(str(Path(__file__).parent.parent))\u001b[39;00m\n\u001b[32m      9\u001b[39m \u001b[38;5;28;01mfrom\u001b[39;00m\u001b[38;5;250m \u001b[39m\u001b[34;01metl\u001b[39;00m\u001b[34;01m.\u001b[39;00m\u001b[34;01mdata_loaders\u001b[39;00m\u001b[34;01m.\u001b[39;00m\u001b[34;01mbase_loader\u001b[39;00m\u001b[38;5;250m \u001b[39m\u001b[38;5;28;01mimport\u001b[39;00m BaseDataLoader\n\u001b[32m---> \u001b[39m\u001b[32m10\u001b[39m \u001b[38;5;28;01mfrom\u001b[39;00m\u001b[38;5;250m \u001b[39m\u001b[34;01metl\u001b[39;00m\u001b[34;01m.\u001b[39;00m\u001b[34;01mdata_loaders\u001b[39;00m\u001b[34;01m.\u001b[39;00m\u001b[34;01mtext_loader\u001b[39;00m\u001b[38;5;250m \u001b[39m\u001b[38;5;28;01mimport\u001b[39;00m TextDataLoader\n\u001b[32m     11\u001b[39m \u001b[38;5;28;01mfrom\u001b[39;00m\u001b[38;5;250m \u001b[39m\u001b[34;01metl\u001b[39;00m\u001b[34;01m.\u001b[39;00m\u001b[34;01mdata_loaders\u001b[39;00m\u001b[34;01m.\u001b[39;00m\u001b[34;01mimage_loader\u001b[39;00m\u001b[38;5;250m \u001b[39m\u001b[38;5;28;01mimport\u001b[39;00m ImageDataLoader\n\u001b[32m     12\u001b[39m \u001b[38;5;28;01mfrom\u001b[39;00m\u001b[38;5;250m \u001b[39m\u001b[34;01mdb\u001b[39;00m\u001b[34;01m.\u001b[39;00m\u001b[34;01mvector_db\u001b[39;00m\u001b[38;5;250m \u001b[39m\u001b[38;5;28;01mimport\u001b[39;00m VectorDB\n",
      "\u001b[36mFile \u001b[39m\u001b[32m~/workspace/memory-map-app/etl/data_loaders/text_loader.py:5\u001b[39m\n\u001b[32m      3\u001b[39m \u001b[38;5;28;01mimport\u001b[39;00m\u001b[38;5;250m \u001b[39m\u001b[34;01mnumpy\u001b[39;00m\u001b[38;5;250m \u001b[39m\u001b[38;5;28;01mas\u001b[39;00m\u001b[38;5;250m \u001b[39m\u001b[34;01mnp\u001b[39;00m\n\u001b[32m      4\u001b[39m \u001b[38;5;28;01mfrom\u001b[39;00m\u001b[38;5;250m \u001b[39m\u001b[34;01mtyping\u001b[39;00m\u001b[38;5;250m \u001b[39m\u001b[38;5;28;01mimport\u001b[39;00m Dict, Any\n\u001b[32m----> \u001b[39m\u001b[32m5\u001b[39m \u001b[38;5;28;01mfrom\u001b[39;00m\u001b[38;5;250m \u001b[39m\u001b[34;01m.\u001b[39;00m\u001b[34;01m.\u001b[39;00m\u001b[34;01m.\u001b[39;00m\u001b[34;01mutils\u001b[39;00m\u001b[34;01m.\u001b[39;00m\u001b[34;01mtext_cleaning\u001b[39;00m\u001b[38;5;250m \u001b[39m\u001b[38;5;28;01mimport\u001b[39;00m clean_text, split_into_chunks\n\u001b[32m      7\u001b[39m \u001b[38;5;28;01mclass\u001b[39;00m\u001b[38;5;250m \u001b[39m\u001b[34;01mTextDataLoader\u001b[39;00m(BaseDataLoader):\n\u001b[32m      8\u001b[39m     \u001b[38;5;28;01mdef\u001b[39;00m\u001b[38;5;250m \u001b[39m\u001b[34m__init__\u001b[39m(\u001b[38;5;28mself\u001b[39m, vector_db, model_name: \u001b[38;5;28mstr\u001b[39m = \u001b[33m\"\u001b[39m\u001b[33mall-MiniLM-L6-v2\u001b[39m\u001b[33m\"\u001b[39m):\n",
      "\u001b[31mImportError\u001b[39m: attempted relative import beyond top-level package"
     ]
    }
   ],
   "source": [
    "\n",
    "\n",
    "import sys\n",
    "import os\n",
    "import numpy as np\n",
    "from pathlib import Path\n",
    "\n",
    "# Add the parent directory to the Python path\n",
    "# sys.path.append(str(Path(__file__).parent.parent))\n",
    "\n",
    "from etl.data_loaders.base_loader import BaseDataLoader\n",
    "from etl.data_loaders.text_loader import TextDataLoader\n",
    "from etl.data_loaders.image_loader import ImageDataLoader\n",
    "from db.vector_db import VectorDB\n",
    "\n",
    "def test_text_loader():\n",
    "    \"\"\"Test the TextDataLoader functionality\"\"\"\n",
    "    print(\"\\n=== Testing Text Data Loader ===\")\n",
    "    \n",
    "    # Initialize text loader\n",
    "    text_loader = TextDataLoader(vector_db)\n",
    "    \n",
    "    # Create a sample text file\n",
    "    sample_text = \"This is a sample text for testing the text loader functionality.\"\n",
    "    sample_text_path = Path('sample_text.txt')\n",
    "    sample_text_path.write_text(sample_text)\n",
    "    \n",
    "    try:\n",
    "        # Test text processing\n",
    "        text_embedding = text_loader.process_data(str(sample_text_path))\n",
    "        print(f\"Text embedding shape: {text_embedding.shape}\")\n",
    "        \n",
    "        # Test saving text memory\n",
    "        metadata = {\n",
    "            'title': 'Sample Text',\n",
    "            'description': 'A test text file',\n",
    "            'upload_to_drive': True,\n",
    "            'drive_folder': 'Test/Text'\n",
    "        }\n",
    "        text_loader.save_text_memory(str(sample_text_path), metadata)\n",
    "        print(\"Successfully saved text memory\")\n",
    "        \n",
    "    finally:\n",
    "        # Cleanup\n",
    "        if sample_text_path.exists():\n",
    "            sample_text_path.unlink()\n",
    "            print(\"Cleaned up sample text file\")\n",
    "\n",
    "def test_image_loader():\n",
    "    \"\"\"Test the ImageDataLoader functionality\"\"\"\n",
    "    print(\"\\n=== Testing Image Data Loader ===\")\n",
    "    \n",
    "    # Initialize image loader\n",
    "    image_loader = ImageDataLoader(vector_db)\n",
    "    \n",
    "    # Test image processing (assuming you have a test image)\n",
    "    test_image_path = '/Users/tototus/workspace/memory-map-app/data/images/E5C324FA-C6A7-4127-A40E-4C03510C0471_4_5005_c.jpeg'  # Replace with your test image path\n",
    "    \n",
    "    if not os.path.exists(test_image_path):\n",
    "        print(f\"Warning: Test image not found at {test_image_path}\")\n",
    "        return\n",
    "    \n",
    "    try:\n",
    "        # Test image processing\n",
    "        image_embedding = image_loader.process_data(test_image_path)\n",
    "        print(f\"Image embedding shape: {image_embedding.shape}\")\n",
    "        \n",
    "        # Test saving image memory\n",
    "        metadata = {\n",
    "            'title': 'Sample Image',\n",
    "            'description': 'A test image',\n",
    "            'drive_folder': 'Test/Images'\n",
    "        }\n",
    "        image_loader.save_image_memory(test_image_path, metadata)\n",
    "        print(\"Successfully saved image memory\")\n",
    "        \n",
    "    except Exception as e:\n",
    "        print(f\"Error processing image: {e}\")\n",
    "\n",
    "def test_memory_retrieval():\n",
    "    \"\"\"Test memory retrieval functionality\"\"\"\n",
    "    print(\"\\n=== Testing Memory Retrieval ===\")\n",
    "    \n",
    "    # Initialize text loader for query processing\n",
    "    text_loader = TextDataLoader(vector_db)\n",
    "    \n",
    "    # Test retrieving memories using text query\n",
    "    query_text = \"sample test\"\n",
    "    query_embedding = text_loader.process_data(query_text)\n",
    "    memories = text_loader.load_memories(query_embedding, k=2)\n",
    "    \n",
    "    print(\"\\nRetrieved memories:\")\n",
    "    for memory in memories:\n",
    "        print(f\"\\nType: {memory['metadata']['type']}\")\n",
    "        print(f\"Title: {memory['metadata'].get('title', 'N/A')}\")\n",
    "        print(f\"Description: {memory['metadata'].get('description', 'N/A')}\")\n",
    "        if memory['metadata']['type'] == 'text':\n",
    "            print(f\"Text content: {memory['text'][:100]}...\")\n",
    "        else:\n",
    "            print(f\"Image link: {memory['image']}\")\n",
    "\n",
    "def main():\n",
    "    \"\"\"Main function to run all tests\"\"\"\n",
    "    print(\"Starting data loader tests...\")\n",
    "    \n",
    "    # Initialize vector database\n",
    "    global vector_db\n",
    "    vector_db = VectorDB()\n",
    "    \n",
    "    # Run tests\n",
    "    test_text_loader()\n",
    "    test_image_loader()\n",
    "    test_memory_retrieval()\n",
    "    \n",
    "    print(\"\\nAll tests completed!\")\n",
    "\n",
    "if __name__ == \"__main__\":\n",
    "    main() "
   ]
  },
  {
   "cell_type": "code",
   "execution_count": 4,
   "metadata": {},
   "outputs": [
    {
     "data": {
      "application/vnd.jupyter.widget-view+json": {
       "model_id": "d45d9e4321064023bd104e522574fd58",
       "version_major": 2,
       "version_minor": 0
      },
      "text/plain": [
       "preprocessor_config.json:   0%|          | 0.00/266 [00:00<?, ?B/s]"
      ]
     },
     "metadata": {},
     "output_type": "display_data"
    },
    {
     "name": "stderr",
     "output_type": "stream",
     "text": [
      "Using a slow image processor as `use_fast` is unset and a slow processor was saved with this model. `use_fast=True` will be the default behavior in v4.52, even if the model was saved with a slow processor. This will result in minor differences in outputs. You'll still be able to use a slow processor with `use_fast=False`.\n"
     ]
    },
    {
     "data": {
      "application/vnd.jupyter.widget-view+json": {
       "model_id": "6e236e6dc3464313bc483dfadf6ee1ff",
       "version_major": 2,
       "version_minor": 0
      },
      "text/plain": [
       "config.json:   0%|          | 0.00/69.6k [00:00<?, ?B/s]"
      ]
     },
     "metadata": {},
     "output_type": "display_data"
    },
    {
     "data": {
      "application/vnd.jupyter.widget-view+json": {
       "model_id": "4b39833fd0714ee590b880c594783a27",
       "version_major": 2,
       "version_minor": 0
      },
      "text/plain": [
       "model.safetensors:   0%|          | 0.00/102M [00:00<?, ?B/s]"
      ]
     },
     "metadata": {},
     "output_type": "display_data"
    },
    {
     "name": "stdout",
     "output_type": "stream",
     "text": [
      "Image embedding shape: (1, 7, 7)\n",
      "Please visit this URL to authorize this application: https://accounts.google.com/o/oauth2/auth?response_type=code&client_id=751187432599-lrfef83cp26d7vedes83f59no0otrfsn.apps.googleusercontent.com&redirect_uri=http%3A%2F%2Flocalhost%3A51687%2F&scope=https%3A%2F%2Fwww.googleapis.com%2Fauth%2Fdrive.file&state=IBIGmPdECJCpL5REurVN0R2706xxy5&access_type=offline\n"
     ]
    },
    {
     "ename": "KeyboardInterrupt",
     "evalue": "",
     "output_type": "error",
     "traceback": [
      "\u001b[31m---------------------------------------------------------------------------\u001b[39m",
      "\u001b[31mKeyboardInterrupt\u001b[39m                         Traceback (most recent call last)",
      "\u001b[36mCell\u001b[39m\u001b[36m \u001b[39m\u001b[32mIn[4]\u001b[39m\u001b[32m, line 28\u001b[39m\n\u001b[32m     22\u001b[39m \u001b[38;5;66;03m# Test saving image memory\u001b[39;00m\n\u001b[32m     23\u001b[39m metadata = {\n\u001b[32m     24\u001b[39m     \u001b[33m'\u001b[39m\u001b[33mtitle\u001b[39m\u001b[33m'\u001b[39m: \u001b[33m'\u001b[39m\u001b[33mSample Image\u001b[39m\u001b[33m'\u001b[39m,\n\u001b[32m     25\u001b[39m     \u001b[33m'\u001b[39m\u001b[33mdescription\u001b[39m\u001b[33m'\u001b[39m: \u001b[33m'\u001b[39m\u001b[33mA test image\u001b[39m\u001b[33m'\u001b[39m,\n\u001b[32m     26\u001b[39m     \u001b[33m'\u001b[39m\u001b[33mdrive_folder\u001b[39m\u001b[33m'\u001b[39m: \u001b[33m'\u001b[39m\u001b[33mTest/Images\u001b[39m\u001b[33m'\u001b[39m\n\u001b[32m     27\u001b[39m }\n\u001b[32m---> \u001b[39m\u001b[32m28\u001b[39m \u001b[43mimage_loader\u001b[49m\u001b[43m.\u001b[49m\u001b[43msave_image_memory\u001b[49m\u001b[43m(\u001b[49m\u001b[43mtest_image_path\u001b[49m\u001b[43m,\u001b[49m\u001b[43m \u001b[49m\u001b[43mmetadata\u001b[49m\u001b[43m)\u001b[49m\n",
      "\u001b[36mFile \u001b[39m\u001b[32m~/workspace/memory-map-app/etl/data_loaders/image_loader.py:54\u001b[39m, in \u001b[36mImageDataLoader.save_image_memory\u001b[39m\u001b[34m(self, image_path, metadata)\u001b[39m\n\u001b[32m     49\u001b[39m metadata['type'] = 'image'\n\u001b[32m     50\u001b[39m metadata['source'] = image_path\n\u001b[32m---> \u001b[39m\u001b[32m54\u001b[39m # Process image and get embeddings\n\u001b[32m     55\u001b[39m embeddings = self.process_data(image_path)\n\u001b[32m     57\u001b[39m # Save to vector DB with structured format\n",
      "\u001b[36mFile \u001b[39m\u001b[32m~/workspace/memory-map-app/etl/data_loaders/base_loader.py:103\u001b[39m, in \u001b[36mupload_to_drive\u001b[39m\u001b[34m(self, folder_path, file_path)\u001b[39m\n\u001b[32m      0\u001b[39m <Error retrieving source code with stack_data see ipython/ipython#13598>\n",
      "\u001b[36mFile \u001b[39m\u001b[32m~/workspace/memory-map-app/etl/data_loaders/base_loader.py:84\u001b[39m, in \u001b[36m_authenticate_drive\u001b[39m\u001b[34m(self)\u001b[39m\n\u001b[32m      0\u001b[39m <Error retrieving source code with stack_data see ipython/ipython#13598>\n",
      "\u001b[36mFile \u001b[39m\u001b[32m~/workspace/memory-map-env/lib/python3.12/site-packages/google_auth_oauthlib/flow.py:453\u001b[39m, in \u001b[36mInstalledAppFlow.run_local_server\u001b[39m\u001b[34m(self, host, bind_addr, port, authorization_prompt_message, success_message, open_browser, redirect_uri_trailing_slash, timeout_seconds, token_audience, browser, **kwargs)\u001b[39m\n\u001b[32m    450\u001b[39m     \u001b[38;5;28mprint\u001b[39m(authorization_prompt_message.format(url=auth_url))\n\u001b[32m    452\u001b[39m local_server.timeout = timeout_seconds\n\u001b[32m--> \u001b[39m\u001b[32m453\u001b[39m \u001b[43mlocal_server\u001b[49m\u001b[43m.\u001b[49m\u001b[43mhandle_request\u001b[49m\u001b[43m(\u001b[49m\u001b[43m)\u001b[49m\n\u001b[32m    455\u001b[39m \u001b[38;5;66;03m# Note: using https here because oauthlib is very picky that\u001b[39;00m\n\u001b[32m    456\u001b[39m \u001b[38;5;66;03m# OAuth 2.0 should only occur over https.\u001b[39;00m\n\u001b[32m    457\u001b[39m authorization_response = wsgi_app.last_request_uri.replace(\u001b[33m\"\u001b[39m\u001b[33mhttp\u001b[39m\u001b[33m\"\u001b[39m, \u001b[33m\"\u001b[39m\u001b[33mhttps\u001b[39m\u001b[33m\"\u001b[39m)\n",
      "\u001b[36mFile \u001b[39m\u001b[32m/opt/homebrew/Cellar/python@3.12/3.12.5/Frameworks/Python.framework/Versions/3.12/lib/python3.12/socketserver.py:297\u001b[39m, in \u001b[36mBaseServer.handle_request\u001b[39m\u001b[34m(self)\u001b[39m\n\u001b[32m    294\u001b[39m selector.register(\u001b[38;5;28mself\u001b[39m, selectors.EVENT_READ)\n\u001b[32m    296\u001b[39m \u001b[38;5;28;01mwhile\u001b[39;00m \u001b[38;5;28;01mTrue\u001b[39;00m:\n\u001b[32m--> \u001b[39m\u001b[32m297\u001b[39m     \u001b[38;5;28;01mif\u001b[39;00m \u001b[43mselector\u001b[49m\u001b[43m.\u001b[49m\u001b[43mselect\u001b[49m\u001b[43m(\u001b[49m\u001b[43mtimeout\u001b[49m\u001b[43m)\u001b[49m:\n\u001b[32m    298\u001b[39m         \u001b[38;5;28;01mreturn\u001b[39;00m \u001b[38;5;28mself\u001b[39m._handle_request_noblock()\n\u001b[32m    299\u001b[39m     \u001b[38;5;28;01melse\u001b[39;00m:\n",
      "\u001b[36mFile \u001b[39m\u001b[32m/opt/homebrew/Cellar/python@3.12/3.12.5/Frameworks/Python.framework/Versions/3.12/lib/python3.12/selectors.py:415\u001b[39m, in \u001b[36m_PollLikeSelector.select\u001b[39m\u001b[34m(self, timeout)\u001b[39m\n\u001b[32m    413\u001b[39m ready = []\n\u001b[32m    414\u001b[39m \u001b[38;5;28;01mtry\u001b[39;00m:\n\u001b[32m--> \u001b[39m\u001b[32m415\u001b[39m     fd_event_list = \u001b[38;5;28;43mself\u001b[39;49m\u001b[43m.\u001b[49m\u001b[43m_selector\u001b[49m\u001b[43m.\u001b[49m\u001b[43mpoll\u001b[49m\u001b[43m(\u001b[49m\u001b[43mtimeout\u001b[49m\u001b[43m)\u001b[49m\n\u001b[32m    416\u001b[39m \u001b[38;5;28;01mexcept\u001b[39;00m \u001b[38;5;167;01mInterruptedError\u001b[39;00m:\n\u001b[32m    417\u001b[39m     \u001b[38;5;28;01mreturn\u001b[39;00m ready\n",
      "\u001b[31mKeyboardInterrupt\u001b[39m: "
     ]
    }
   ],
   "source": [
    "\n",
    "\n",
    "import sys\n",
    "import os\n",
    "import numpy as np\n",
    "from pathlib import Path\n",
    "\n",
    "# Add the parent directory to the Python path\n",
    "# sys.path.append(str(Path(__file__).parent.parent))\n",
    "\n",
    "from etl.data_loaders.base_loader import BaseDataLoader\n",
    "from etl.data_loaders.text_loader import TextDataLoader\n",
    "from etl.data_loaders.image_loader import ImageDataLoader\n",
    "from db.chroma_db import ChromaDB\n",
    "\n",
    "image_loader = ImageDataLoader(ChromaDB)\n",
    "    \n",
    "    # Test image processing (assuming you have a test image)\n",
    "test_image_path = '/Users/tototus/workspace/memory-map-app/data/images/E5C324FA-C6A7-4127-A40E-4C03510C0471_4_5005_c.jpeg'  # Replace with your test image path\n",
    "# Test image processing\n",
    "image_embedding = image_loader.process_data(test_image_path)\n",
    "print(f\"Image embedding shape: {image_embedding.shape}\")\n",
    "\n",
    "# Test saving image memory\n",
    "metadata = {\n",
    "    'title': 'Sample Image',\n",
    "    'description': 'A test image',\n",
    "    'drive_folder': 'Test/Images'\n",
    "}\n",
    "image_loader.save_image_memory(test_image_path, metadata)\n"
   ]
  },
  {
   "cell_type": "code",
   "execution_count": 1,
   "metadata": {},
   "outputs": [
    {
     "name": "stdout",
     "output_type": "stream",
     "text": [
      "Please visit this URL to authorize this application: https://accounts.google.com/o/oauth2/auth?response_type=code&client_id=751187432599-lrfef83cp26d7vedes83f59no0otrfsn.apps.googleusercontent.com&redirect_uri=http%3A%2F%2Flocalhost%3A49617%2F&scope=https%3A%2F%2Fwww.googleapis.com%2Fauth%2Fdrive.file+https%3A%2F%2Fwww.googleapis.com%2Fauth%2Fuserinfo.email+https%3A%2F%2Fwww.googleapis.com%2Fauth%2Fuserinfo.profile&state=mNi98BKTOVlTsXncyeNzec4eu4ithH&access_type=offline\n"
     ]
    },
    {
     "ename": "KeyboardInterrupt",
     "evalue": "",
     "output_type": "error",
     "traceback": [
      "\u001b[31m---------------------------------------------------------------------------\u001b[39m",
      "\u001b[31mKeyboardInterrupt\u001b[39m                         Traceback (most recent call last)",
      "\u001b[36mCell\u001b[39m\u001b[36m \u001b[39m\u001b[32mIn[1]\u001b[39m\u001b[32m, line 3\u001b[39m\n\u001b[32m      1\u001b[39m \u001b[38;5;28;01mfrom\u001b[39;00m\u001b[38;5;250m \u001b[39m\u001b[34;01mdb\u001b[39;00m\u001b[34;01m.\u001b[39;00m\u001b[34;01mauth\u001b[39;00m\u001b[38;5;250m \u001b[39m\u001b[38;5;28;01mimport\u001b[39;00m UserAuth\n\u001b[32m      2\u001b[39m auth = UserAuth()\n\u001b[32m----> \u001b[39m\u001b[32m3\u001b[39m \u001b[43mauth\u001b[49m\u001b[43m.\u001b[49m\u001b[43mlogin\u001b[49m\u001b[43m(\u001b[49m\u001b[43m)\u001b[49m\n",
      "\u001b[36mFile \u001b[39m\u001b[32m~/workspace/memory-map-app/db/auth.py:57\u001b[39m, in \u001b[36mUserAuth.login\u001b[39m\u001b[34m(self)\u001b[39m\n\u001b[32m     47\u001b[39m \u001b[38;5;250m\u001b[39m\u001b[33;03m\"\"\"\u001b[39;00m\n\u001b[32m     48\u001b[39m \u001b[33;03mAuthenticate user with Google OAuth and return user profile\u001b[39;00m\n\u001b[32m     49\u001b[39m \u001b[33;03m\u001b[39;00m\n\u001b[32m   (...)\u001b[39m\u001b[32m     54\u001b[39m \u001b[33;03m    ValueError: If authentication fails\u001b[39;00m\n\u001b[32m     55\u001b[39m \u001b[33;03m\"\"\"\u001b[39;00m\n\u001b[32m     56\u001b[39m \u001b[38;5;28;01mtry\u001b[39;00m:\n\u001b[32m---> \u001b[39m\u001b[32m57\u001b[39m     \u001b[38;5;28;01mif\u001b[39;00m \u001b[38;5;28;43mself\u001b[39;49m\u001b[43m.\u001b[49m\u001b[43mauthenticate\u001b[49m\u001b[43m(\u001b[49m\u001b[43m)\u001b[49m:\n\u001b[32m     58\u001b[39m         \u001b[38;5;28;01mreturn\u001b[39;00m \u001b[38;5;28mself\u001b[39m.get_user_info()\n\u001b[32m     59\u001b[39m     \u001b[38;5;28;01mraise\u001b[39;00m \u001b[38;5;167;01mValueError\u001b[39;00m(\u001b[33m\"\u001b[39m\u001b[33mAuthentication failed\u001b[39m\u001b[33m\"\u001b[39m)\n",
      "\u001b[36mFile \u001b[39m\u001b[32m~/workspace/memory-map-app/db/auth.py:86\u001b[39m, in \u001b[36mUserAuth.authenticate\u001b[39m\u001b[34m(self)\u001b[39m\n\u001b[32m     84\u001b[39m         \u001b[38;5;28mself\u001b[39m._initiate_auth_flow()\n\u001b[32m     85\u001b[39m \u001b[38;5;28;01melse\u001b[39;00m:\n\u001b[32m---> \u001b[39m\u001b[32m86\u001b[39m     \u001b[38;5;28;43mself\u001b[39;49m\u001b[43m.\u001b[49m\u001b[43m_initiate_auth_flow\u001b[49m\u001b[43m(\u001b[49m\u001b[43m)\u001b[49m\n\u001b[32m     88\u001b[39m \u001b[38;5;66;03m# Save the credentials for future use\u001b[39;00m\n\u001b[32m     89\u001b[39m \u001b[38;5;28;01mwith\u001b[39;00m \u001b[38;5;28mopen\u001b[39m(\u001b[38;5;28mself\u001b[39m.token_path, \u001b[33m'\u001b[39m\u001b[33mwb\u001b[39m\u001b[33m'\u001b[39m) \u001b[38;5;28;01mas\u001b[39;00m token:\n",
      "\u001b[36mFile \u001b[39m\u001b[32m~/workspace/memory-map-app/db/auth.py:106\u001b[39m, in \u001b[36mUserAuth._initiate_auth_flow\u001b[39m\u001b[34m(self)\u001b[39m\n\u001b[32m    103\u001b[39m \u001b[38;5;28;01mtry\u001b[39;00m:\n\u001b[32m    104\u001b[39m     flow = InstalledAppFlow.from_client_secrets_file(\n\u001b[32m    105\u001b[39m         \u001b[38;5;28mself\u001b[39m.credentials_path, \u001b[38;5;28mself\u001b[39m.SCOPES)\n\u001b[32m--> \u001b[39m\u001b[32m106\u001b[39m     \u001b[38;5;28mself\u001b[39m.creds = \u001b[43mflow\u001b[49m\u001b[43m.\u001b[49m\u001b[43mrun_local_server\u001b[49m\u001b[43m(\u001b[49m\u001b[43mport\u001b[49m\u001b[43m=\u001b[49m\u001b[32;43m0\u001b[39;49m\u001b[43m)\u001b[49m\n\u001b[32m    107\u001b[39m \u001b[38;5;28;01mexcept\u001b[39;00m \u001b[38;5;167;01mException\u001b[39;00m \u001b[38;5;28;01mas\u001b[39;00m e:\n\u001b[32m    108\u001b[39m     logger.error(\u001b[33mf\u001b[39m\u001b[33m\"\u001b[39m\u001b[33mAuth flow error: \u001b[39m\u001b[38;5;132;01m{\u001b[39;00m\u001b[38;5;28mstr\u001b[39m(e)\u001b[38;5;132;01m}\u001b[39;00m\u001b[33m\"\u001b[39m)\n",
      "\u001b[36mFile \u001b[39m\u001b[32m~/workspace/memory-map-env/lib/python3.12/site-packages/google_auth_oauthlib/flow.py:453\u001b[39m, in \u001b[36mInstalledAppFlow.run_local_server\u001b[39m\u001b[34m(self, host, bind_addr, port, authorization_prompt_message, success_message, open_browser, redirect_uri_trailing_slash, timeout_seconds, token_audience, browser, **kwargs)\u001b[39m\n\u001b[32m    450\u001b[39m     \u001b[38;5;28mprint\u001b[39m(authorization_prompt_message.format(url=auth_url))\n\u001b[32m    452\u001b[39m local_server.timeout = timeout_seconds\n\u001b[32m--> \u001b[39m\u001b[32m453\u001b[39m \u001b[43mlocal_server\u001b[49m\u001b[43m.\u001b[49m\u001b[43mhandle_request\u001b[49m\u001b[43m(\u001b[49m\u001b[43m)\u001b[49m\n\u001b[32m    455\u001b[39m \u001b[38;5;66;03m# Note: using https here because oauthlib is very picky that\u001b[39;00m\n\u001b[32m    456\u001b[39m \u001b[38;5;66;03m# OAuth 2.0 should only occur over https.\u001b[39;00m\n\u001b[32m    457\u001b[39m authorization_response = wsgi_app.last_request_uri.replace(\u001b[33m\"\u001b[39m\u001b[33mhttp\u001b[39m\u001b[33m\"\u001b[39m, \u001b[33m\"\u001b[39m\u001b[33mhttps\u001b[39m\u001b[33m\"\u001b[39m)\n",
      "\u001b[36mFile \u001b[39m\u001b[32m/opt/homebrew/Cellar/python@3.12/3.12.5/Frameworks/Python.framework/Versions/3.12/lib/python3.12/socketserver.py:297\u001b[39m, in \u001b[36mBaseServer.handle_request\u001b[39m\u001b[34m(self)\u001b[39m\n\u001b[32m    294\u001b[39m selector.register(\u001b[38;5;28mself\u001b[39m, selectors.EVENT_READ)\n\u001b[32m    296\u001b[39m \u001b[38;5;28;01mwhile\u001b[39;00m \u001b[38;5;28;01mTrue\u001b[39;00m:\n\u001b[32m--> \u001b[39m\u001b[32m297\u001b[39m     \u001b[38;5;28;01mif\u001b[39;00m \u001b[43mselector\u001b[49m\u001b[43m.\u001b[49m\u001b[43mselect\u001b[49m\u001b[43m(\u001b[49m\u001b[43mtimeout\u001b[49m\u001b[43m)\u001b[49m:\n\u001b[32m    298\u001b[39m         \u001b[38;5;28;01mreturn\u001b[39;00m \u001b[38;5;28mself\u001b[39m._handle_request_noblock()\n\u001b[32m    299\u001b[39m     \u001b[38;5;28;01melse\u001b[39;00m:\n",
      "\u001b[36mFile \u001b[39m\u001b[32m/opt/homebrew/Cellar/python@3.12/3.12.5/Frameworks/Python.framework/Versions/3.12/lib/python3.12/selectors.py:415\u001b[39m, in \u001b[36m_PollLikeSelector.select\u001b[39m\u001b[34m(self, timeout)\u001b[39m\n\u001b[32m    413\u001b[39m ready = []\n\u001b[32m    414\u001b[39m \u001b[38;5;28;01mtry\u001b[39;00m:\n\u001b[32m--> \u001b[39m\u001b[32m415\u001b[39m     fd_event_list = \u001b[38;5;28;43mself\u001b[39;49m\u001b[43m.\u001b[49m\u001b[43m_selector\u001b[49m\u001b[43m.\u001b[49m\u001b[43mpoll\u001b[49m\u001b[43m(\u001b[49m\u001b[43mtimeout\u001b[49m\u001b[43m)\u001b[49m\n\u001b[32m    416\u001b[39m \u001b[38;5;28;01mexcept\u001b[39;00m \u001b[38;5;167;01mInterruptedError\u001b[39;00m:\n\u001b[32m    417\u001b[39m     \u001b[38;5;28;01mreturn\u001b[39;00m ready\n",
      "\u001b[31mKeyboardInterrupt\u001b[39m: "
     ]
    }
   ],
   "source": [
    "from db.auth import UserAuth\n",
    "auth = UserAuth()\n",
    "auth.login()\n"
   ]
  }
 ],
 "metadata": {
  "kernelspec": {
   "display_name": "Python 3 (ipykernel)",
   "language": "python",
   "name": "python3"
  },
  "language_info": {
   "codemirror_mode": {
    "name": "ipython",
    "version": 3
   },
   "file_extension": ".py",
   "mimetype": "text/x-python",
   "name": "python",
   "nbconvert_exporter": "python",
   "pygments_lexer": "ipython3",
   "version": "3.12.5"
  }
 },
 "nbformat": 4,
 "nbformat_minor": 2
}
