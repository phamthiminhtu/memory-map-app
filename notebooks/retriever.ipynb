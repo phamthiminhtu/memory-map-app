{
 "cells": [
  {
   "cell_type": "markdown",
   "metadata": {},
   "source": [
    "# retriever\n"
   ]
  },
  {
   "cell_type": "code",
   "execution_count": 2,
   "metadata": {},
   "outputs": [
    {
     "name": "stderr",
     "output_type": "stream",
     "text": [
      "2025-05-17 16:55:15,520 - db.chroma_db - INFO - Collections initialized successfully\n",
      "2025-05-17 16:55:15,522 - db.chroma_db - INFO - ChromaDB initialized at data/embeded_text\n",
      "2025-05-17 16:55:15,526 - db.chroma_db - INFO - Collections initialized successfully\n",
      "2025-05-17 16:55:15,527 - db.chroma_db - INFO - ChromaDB initialized at data/embeded_image\n",
      "2025-05-17 16:55:15,528 - sentence_transformers.SentenceTransformer - INFO - Use pytorch device_name: mps\n",
      "2025-05-17 16:55:15,529 - sentence_transformers.SentenceTransformer - INFO - Load pretrained SentenceTransformer: all-MiniLM-L6-v2\n"
     ]
    },
    {
     "data": {
      "application/vnd.jupyter.widget-view+json": {
       "model_id": "4ec7e9eab27b4d5fab2134e06e2e5495",
       "version_major": 2,
       "version_minor": 0
      },
      "text/plain": [
       "Batches:   0%|          | 0/1 [00:00<?, ?it/s]"
      ]
     },
     "metadata": {},
     "output_type": "display_data"
    },
    {
     "name": "stderr",
     "output_type": "stream",
     "text": [
      "2025-05-17 16:55:21,925 - db.chroma_db - INFO - Found 2 similar memories\n",
      "2025-05-17 16:55:21,995 - db.chroma_db - INFO - Found 1 similar memories\n"
     ]
    },
    {
     "data": {
      "text/plain": [
       "[]"
      ]
     },
     "execution_count": 2,
     "metadata": {},
     "output_type": "execute_result"
    }
   ],
   "source": [
    "\n",
    "\n",
    "import sys\n",
    "import os\n",
    "import numpy as np\n",
    "from pathlib import Path\n",
    "\n",
    "# Add the parent directory to the Python path\n",
    "# sys.path.append(str(Path(__file__).parent.parent))\n",
    "\n",
    "\n",
    "from tools.memory_retriever import MemoryRetriever\n",
    "\n",
    "memory_retriever = MemoryRetriever(similarity_threshold=0.5)\n",
    "memory_retriever.search_memories('uluru')\n"
   ]
  }
 ],
 "metadata": {
  "kernelspec": {
   "display_name": "Python 3 (ipykernel)",
   "language": "python",
   "name": "python3"
  },
  "language_info": {
   "codemirror_mode": {
    "name": "ipython",
    "version": 3
   },
   "file_extension": ".py",
   "mimetype": "text/x-python",
   "name": "python",
   "nbconvert_exporter": "python",
   "pygments_lexer": "ipython3",
   "version": "3.12.5"
  }
 },
 "nbformat": 4,
 "nbformat_minor": 2
}
